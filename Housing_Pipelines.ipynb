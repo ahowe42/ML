{
 "cells": [
  {
   "cell_type": "markdown",
   "metadata": {},
   "source": [
    "# Modeling California Housing Prices\n",
    "Now that exploration and preliminary work has been done in *Housing_Expl.ipynb*, setup the feature work and modeling pipelines."
   ]
  },
  {
   "cell_type": "code",
   "execution_count": 1,
   "metadata": {},
   "outputs": [],
   "source": [
    "import os\n",
    "import math\n",
    "import numpy as np\n",
    "import pandas as pd\n",
    "from sklearn.model_selection import StratifiedShuffleSplit\n",
    "from sklearn.preprocessing import Imputer\n",
    "from sklearn.preprocessing import LabelBinarizer, MinMaxScaler\n",
    "from sklearn.pipeline import Pipeline, FeatureUnion\n",
    "from sklearn.base import BaseEstimator, TransformerMixin\n",
    "from sklearn.metrics import mean_squared_error\n",
    "from sklearn.linear_model import LinearRegression\n",
    "from sklearn.tree import DecisionTreeRegressor"
   ]
  },
  {
   "cell_type": "markdown",
   "metadata": {},
   "source": [
    "## Set Up Functions for the Pipelines"
   ]
  },
  {
   "cell_type": "code",
   "execution_count": 2,
   "metadata": {},
   "outputs": [],
   "source": [
    "# custom \"transformer\" to select types of columns & return the data as np array\n",
    "class DFSelector(BaseEstimator,TransformerMixin):\n",
    "    def __init__(self,attNames):\n",
    "        self.attributeNames = attNames\n",
    "    def fit(self,X,y=None):\n",
    "        return self\n",
    "    def transform(self,X,y=None):\n",
    "        return X[self.attributeNames].values"
   ]
  },
  {
   "cell_type": "code",
   "execution_count": 3,
   "metadata": {},
   "outputs": [],
   "source": [
    "# custom \"transformer\" to do some numeric feature engineering\n",
    "class FeatEngineer(BaseEstimator,TransformerMixin):\n",
    "    def __init__(self):\n",
    "        pass\n",
    "    def fit(self,X,y=None):\n",
    "        return self\n",
    "    def transform(self,X,y=None):\n",
    "        # compute some new features\n",
    "        roomsHouse = X[:,3]/X[:,6]\n",
    "        bedroomsHouse = X[:,4]/X[:,6]\n",
    "        populationHouse = X[:,5]/X[:,6]  \n",
    "        return np.c_[X,roomsHouse,bedroomsHouse,populationHouse]"
   ]
  },
  {
   "cell_type": "code",
   "execution_count": 4,
   "metadata": {},
   "outputs": [],
   "source": [
    "# create a function to perform stratified sampling\n",
    "def StratPartition(training_perc,split_seed,data,categories):\n",
    "    sss = StratifiedShuffleSplit(n_splits=1, random_state = split_seed, train_size = training_perc)\n",
    "    trn,tst = next(sss.split(data,categories))\n",
    "    return data.loc[trn],data.loc[tst]"
   ]
  },
  {
   "cell_type": "markdown",
   "metadata": {},
   "source": [
    "## Do the work"
   ]
  },
  {
   "cell_type": "code",
   "execution_count": 5,
   "metadata": {},
   "outputs": [],
   "source": [
    "# get the data\n",
    "HOUSING_PATH = './datasets/housing'\n",
    "HOUSING_FILE = 'housing.csv'\n",
    "housingData = pd.read_csv(os.path.join(HOUSING_PATH,'housing.csv'))\n",
    "# get numeric and categorical columns separately\n",
    "featuresCat = []\n",
    "featuresNum = []\n",
    "for col,typ in zip(housingData.columns,housingData.dtypes):\n",
    "    if col=='median_house_value':\n",
    "        # note that we exclude the target variable, as we don't want to do anything to it\n",
    "        pass\n",
    "    elif (typ=='float64') or (typ=='int64'):\n",
    "        featuresNum.append(col)\n",
    "    else:\n",
    "        featuresCat.append(col)"
   ]
  },
  {
   "cell_type": "code",
   "execution_count": 6,
   "metadata": {},
   "outputs": [
    {
     "name": "stdout",
     "output_type": "stream",
     "text": [
      "Training Set:\n",
      "1.0    0.039793\n",
      "5.0    0.114470\n",
      "4.0    0.176292\n",
      "2.0    0.318863\n",
      "3.0    0.350581\n",
      "Name: median_income_cat, dtype: float64\n",
      "Testing Set:\n",
      "1.0    0.039729\n",
      "5.0    0.114341\n",
      "4.0    0.176357\n",
      "2.0    0.318798\n",
      "3.0    0.350775\n",
      "Name: median_income_cat, dtype: float64\n"
     ]
    },
    {
     "name": "stderr",
     "output_type": "stream",
     "text": [
      "/home/ahowe42/anaconda3/lib/python3.6/site-packages/sklearn/model_selection/_split.py:1639: FutureWarning: From version 0.21, test_size will always complement train_size unless both are specified.\n",
      "  FutureWarning)\n"
     ]
    }
   ],
   "source": [
    "# handles nulls in the target by dropping the rows\n",
    "housingData = housingData[pd.notnull(housingData.median_house_value)]\n",
    "\n",
    "# create the categorical income variable, and partition into training & testing sets\n",
    "housingData['median_income_cat'] = np.ceil(housingData.median_income/1.5)\n",
    "housingData.median_income_cat.where(housingData.median_income_cat<5,5,inplace=True)\n",
    "housingData.median_income_cat = pd.Categorical(housingData.median_income_cat)\n",
    "\n",
    "# partition, using stratifications of the median income\n",
    "splitSeed = 19062018\n",
    "trainingPerc = 0.75\n",
    "housingTrn,housingTst = StratPartition(trainingPerc,splitSeed,housingData,housingData.median_income_cat)\n",
    "# talk a little\n",
    "print('Training Set:')\n",
    "print(housingTrn.median_income_cat.value_counts().sort_values()/housingTrn.median_income_cat.count())\n",
    "print('Testing Set:')\n",
    "print(housingTst.median_income_cat.value_counts().sort_values()/housingTst.median_income_cat.count())\n",
    "\n",
    "# now save this feature separately & drop it\n",
    "medIncomeCatTrn = housingTrn.median_income_cat; housingTrn.drop('median_income_cat',axis=1,inplace=True)\n",
    "medIncomeCatTst = housingTst.median_income_cat; housingTst.drop('median_income_cat',axis=1,inplace=True)\n",
    "\n",
    "# extract and set aside the target        \n",
    "housingTargTrn = housingTrn.median_house_value; housingTrn.drop('median_house_value',axis=1,inplace=True)\n",
    "housingTargTst = housingTst.median_house_value; housingTst.drop('median_house_value',axis=1,inplace=True)"
   ]
  },
  {
   "cell_type": "markdown",
   "metadata": {},
   "source": [
    "### Note: what about the ridiculously high numbers of rooms?; what about the apparent cutoffs in home values?"
   ]
  },
  {
   "cell_type": "code",
   "execution_count": 12,
   "metadata": {},
   "outputs": [],
   "source": [
    "# set up some scikit-learn objects\n",
    "selNum = DFSelector(featuresNum)\n",
    "selCat = DFSelector(featuresCat)\n",
    "enc = LabelBinarizer()           # create OHE cat labels for the categorical variable(s)\n",
    "imp = Imputer(strategy='median') # impute missing numeric values using the median\n",
    "von = MinMaxScaler()             # scale numeric values to the [0,1] von Neuman range\n",
    "eng = FeatEngineer()             # engineer some numeric features\n",
    "\n",
    "# create the transformation pipelines\n",
    "pipeNum = Pipeline([('selector',selNum),('imputer',imp),('engineer',eng),('normalizer',von)])\n",
    "pipeCat = Pipeline([('selector',selCat),('binner',enc)])\n",
    "pipeFull = FeatureUnion(transformer_list=[('numeric',pipeNum),('categoric',pipeCat)])"
   ]
  },
  {
   "cell_type": "markdown",
   "metadata": {},
   "source": [
    "Note: there is an issue with Pipeline, it seems, that prevents it working with the *LabelBinarizer()*, so I've set it up, but not using it..."
   ]
  },
  {
   "cell_type": "code",
   "execution_count": 13,
   "metadata": {},
   "outputs": [
    {
     "name": "stdout",
     "output_type": "stream",
     "text": [
      "Numeric shapes = (15480, 11), (2064, 11)\n",
      "Categoric shapes = (15480, 5), (2064, 5)\n"
     ]
    }
   ],
   "source": [
    "# run the full pipelines\n",
    "#housingTrn = pipeFull.fit_transform(housingTrn)\n",
    "#housingTst = pipeFull.transform(housingTst)\n",
    "\n",
    "# run the numeric pipline\n",
    "numTrn = pipeNum.fit_transform(housingTrn)\n",
    "numTst = pipeNum.transform(housingTst)\n",
    "print('Numeric shapes = %r, %r'%(numTrn.shape,numTst.shape))\n",
    "\n",
    "# pretend we are running the categorical pipeline\n",
    "catTrn = selCat.fit_transform(housingTrn)\n",
    "catTrn = enc.fit_transform(catTrn)\n",
    "catTst = selCat.transform(housingTst)\n",
    "catTst = enc.transform(catTst)\n",
    "print('Categoric shapes = %r, %r'%(catTrn.shape,catTst.shape))"
   ]
  },
  {
   "cell_type": "code",
   "execution_count": 14,
   "metadata": {},
   "outputs": [
    {
     "name": "stdout",
     "output_type": "stream",
     "text": [
      "---------- Training\n",
      "          longitude      latitude  housing_median_age   total_rooms  \\\n",
      "count  15480.000000  15480.000000        15480.000000  15480.000000   \n",
      "mean       0.475349      0.329878            0.543489      0.066614   \n",
      "std        0.199923      0.227774            0.246639      0.055491   \n",
      "min        0.000000      0.000000            0.000000      0.000000   \n",
      "25%        0.253984      0.148346            0.333333      0.036679   \n",
      "50%        0.581673      0.183565            0.549020      0.053759   \n",
      "75%        0.631474      0.550694            0.705882      0.079285   \n",
      "max        1.000000      1.000000            1.000000      1.000000   \n",
      "\n",
      "       total_bedrooms    population    households  median_income  \\\n",
      "count    15480.000000  15480.000000  15480.000000   15480.000000   \n",
      "mean         0.082724      0.049453      0.081451       0.232501   \n",
      "std          0.064436      0.038648      0.061934       0.131076   \n",
      "min          0.000000      0.000000      0.000000       0.000000   \n",
      "25%          0.046089      0.027343      0.045716       0.142431   \n",
      "50%          0.067194      0.040542      0.066930       0.209159   \n",
      "75%          0.099162      0.059833      0.098504       0.292349   \n",
      "max          1.000000      1.000000      1.000000       1.000000   \n",
      "\n",
      "       rooms_per_house  bedrooms_per_house  population_per_house  \\\n",
      "count     15480.000000        15480.000000          15480.000000   \n",
      "mean          0.032560            0.024076              0.001914   \n",
      "std           0.018315            0.016459              0.008830   \n",
      "min           0.000000            0.000000              0.000000   \n",
      "25%           0.025484            0.021153              0.001398   \n",
      "50%           0.031118            0.022448              0.001711   \n",
      "75%           0.036982            0.023977              0.002082   \n",
      "max           1.000000            1.000000              1.000000   \n",
      "\n",
      "       ocean_proximity_0  ocean_proximity_1  ocean_proximity_2  \\\n",
      "count       15480.000000       15480.000000       15480.000000   \n",
      "mean            0.442765           0.318411           0.000323   \n",
      "std             0.496729           0.465875           0.017970   \n",
      "min             0.000000           0.000000           0.000000   \n",
      "25%             0.000000           0.000000           0.000000   \n",
      "50%             0.000000           0.000000           0.000000   \n",
      "75%             1.000000           1.000000           0.000000   \n",
      "max             1.000000           1.000000           1.000000   \n",
      "\n",
      "       ocean_proximity_3  ocean_proximity_4  median_income_cat  \n",
      "count        15480.00000       15480.000000       15480.000000  \n",
      "mean             0.11124           0.127261           3.006783  \n",
      "std              0.31444           0.333276           1.054626  \n",
      "min              0.00000           0.000000           1.000000  \n",
      "25%              0.00000           0.000000           2.000000  \n",
      "50%              0.00000           0.000000           3.000000  \n",
      "75%              0.00000           0.000000           4.000000  \n",
      "max              1.00000           1.000000           5.000000  \n",
      "   longitude  latitude  housing_median_age  total_rooms  total_bedrooms  \\\n",
      "0   0.572709  0.171825            0.607843     0.101567        0.103352   \n",
      "1   0.260956  0.581644            0.039216     0.234293        0.236034   \n",
      "2   0.757968  0.114194            0.196078     0.060513        0.102421   \n",
      "3   0.708167  0.068303            0.352941     0.039757        0.054314   \n",
      "4   0.598606  0.159018            0.705882     0.037137        0.081937   \n",
      "\n",
      "   population  households  median_income  rooms_per_house  bedrooms_per_house  \\\n",
      "0    0.056892    0.103601       0.384788         0.038929            0.022684   \n",
      "1    0.125162    0.209012       0.310458         0.045369            0.026814   \n",
      "2    0.023772    0.039632       0.166494         0.063867            0.072257   \n",
      "3    0.036131    0.057721       0.166839         0.025600            0.020911   \n",
      "4    0.064139    0.082059       0.082861         0.014787            0.022712   \n",
      "\n",
      "   population_per_house  ocean_proximity_0  ocean_proximity_1  \\\n",
      "0              0.001519                1.0                0.0   \n",
      "1              0.001707                0.0                1.0   \n",
      "2              0.001711                0.0                1.0   \n",
      "3              0.001809                1.0                0.0   \n",
      "4              0.002396                1.0                0.0   \n",
      "\n",
      "   ocean_proximity_2  ocean_proximity_3  ocean_proximity_4  median_income_cat  \n",
      "0                0.0                0.0                0.0                5.0  \n",
      "1                0.0                0.0                0.0                4.0  \n",
      "2                0.0                0.0                0.0                2.0  \n",
      "3                0.0                0.0                0.0                2.0  \n",
      "4                0.0                0.0                0.0                2.0  \n",
      "---------- Testing\n",
      "         longitude     latitude  housing_median_age  total_rooms  \\\n",
      "count  2064.000000  2064.000000         2064.000000  2064.000000   \n",
      "mean      0.479761     0.325162            0.543320     0.068493   \n",
      "std       0.198837     0.227960            0.247865     0.052814   \n",
      "min       0.004980    -0.001067            0.019608    -0.000102   \n",
      "25%       0.257968     0.145945            0.333333     0.037913   \n",
      "50%       0.586653     0.178228            0.549020     0.056201   \n",
      "75%       0.631474     0.551761            0.705882     0.081714   \n",
      "max       0.974104     0.993597            1.000000     0.608155   \n",
      "\n",
      "       total_bedrooms   population   households  median_income  \\\n",
      "count     2064.000000  2064.000000  2064.000000    2064.000000   \n",
      "mean         0.084972     0.051064     0.083841       0.233618   \n",
      "std          0.061400     0.037388     0.059661       0.133560   \n",
      "min          0.000155     0.000105     0.000164       0.002490   \n",
      "25%          0.047796     0.028341     0.046703       0.142805   \n",
      "50%          0.068979     0.041837     0.069890       0.211573   \n",
      "75%          0.103662     0.062310     0.102327       0.297711   \n",
      "max          0.641527     0.380702     0.650715       1.000000   \n",
      "\n",
      "       rooms_per_house  bedrooms_per_house  population_per_house  \\\n",
      "count      2064.000000         2064.000000           2064.000000   \n",
      "mean          0.032403            0.023870              0.001822   \n",
      "std           0.016139            0.012796              0.001103   \n",
      "min           0.001091           -0.000252              0.000490   \n",
      "25%           0.025538            0.021190              0.001395   \n",
      "50%           0.030907            0.022380              0.001712   \n",
      "75%           0.036714            0.023806              0.002092   \n",
      "max           0.392896            0.329225              0.040806   \n",
      "\n",
      "       ocean_proximity_0  ocean_proximity_1  ocean_proximity_2  \\\n",
      "count        2064.000000        2064.000000             2064.0   \n",
      "mean            0.445736           0.317829                0.0   \n",
      "std             0.497167           0.465746                0.0   \n",
      "min             0.000000           0.000000                0.0   \n",
      "25%             0.000000           0.000000                0.0   \n",
      "50%             0.000000           0.000000                0.0   \n",
      "75%             1.000000           1.000000                0.0   \n",
      "max             1.000000           1.000000                0.0   \n",
      "\n",
      "       ocean_proximity_3  ocean_proximity_4  median_income_cat  \n",
      "count        2064.000000         2064.00000        2064.000000  \n",
      "mean            0.107074            0.12936           3.006783  \n",
      "std             0.309282            0.33568           1.054479  \n",
      "min             0.000000            0.00000           1.000000  \n",
      "25%             0.000000            0.00000           2.000000  \n",
      "50%             0.000000            0.00000           3.000000  \n",
      "75%             0.000000            0.00000           4.000000  \n",
      "max             1.000000            1.00000           5.000000  \n",
      "   longitude  latitude  housing_median_age  total_rooms  total_bedrooms  \\\n",
      "0   0.236056  0.560299            0.313725     0.085161        0.065332   \n",
      "1   0.364542  0.517609            0.882353     0.021723        0.020019   \n",
      "2   0.574701  0.175027            0.509804     0.108867        0.166046   \n",
      "3   0.597610  0.161153            1.000000     0.034644        0.049814   \n",
      "4   0.505976  0.402348            0.098039     0.073129        0.080230   \n",
      "\n",
      "   population  households  median_income  rooms_per_house  bedrooms_per_house  \\\n",
      "0    0.050905    0.069725       0.492917         0.049947            0.020786   \n",
      "1    0.017260    0.024009       0.208052         0.035475            0.017571   \n",
      "2    0.100130    0.169709       0.193970         0.023415            0.022084   \n",
      "3    0.021496    0.049663       0.336685         0.026008            0.022851   \n",
      "4    0.050030    0.082717       0.246941         0.034524            0.021817   \n",
      "\n",
      "   population_per_house  ocean_proximity_0  ocean_proximity_1  \\\n",
      "0              0.002202                1.0                0.0   \n",
      "1              0.002158                0.0                1.0   \n",
      "2              0.001673                1.0                0.0   \n",
      "3              0.001082                1.0                0.0   \n",
      "4              0.001729                0.0                1.0   \n",
      "\n",
      "   ocean_proximity_2  ocean_proximity_3  ocean_proximity_4  median_income_cat  \n",
      "0                0.0                0.0                0.0                5.0  \n",
      "1                0.0                0.0                0.0                3.0  \n",
      "2                0.0                0.0                0.0                3.0  \n",
      "3                0.0                0.0                0.0                4.0  \n",
      "4                0.0                0.0                0.0                3.0  \n"
     ]
    }
   ],
   "source": [
    "# put the data all back together\n",
    "cols = featuresNum+['rooms_per_house','bedrooms_per_house','population_per_house']+\\\n",
    "['ocean_proximity_%d'%i for i in range(len(housingData.ocean_proximity.value_counts()))]+['median_income_cat']\n",
    "housingTrn = pd.DataFrame(np.c_[numTrn,catTrn,medIncomeCatTrn],columns=cols)\n",
    "housingTst = pd.DataFrame(np.c_[numTst,catTst,medIncomeCatTst],columns=cols)\n",
    "# talk\n",
    "print('---------- Training')\n",
    "print(housingTrn.describe())\n",
    "print(housingTrn.head())\n",
    "print('---------- Testing')\n",
    "print(housingTst.describe())\n",
    "print(housingTst.head())"
   ]
  },
  {
   "cell_type": "markdown",
   "metadata": {},
   "source": [
    "# Time to try some modeling"
   ]
  },
  {
   "cell_type": "code",
   "execution_count": 18,
   "metadata": {},
   "outputs": [
    {
     "name": "stdout",
     "output_type": "stream",
     "text": [
      "Linear Regression\n",
      "Training RMSE = 68532.11\n",
      "Testing RMSE = 67842.93\n"
     ]
    }
   ],
   "source": [
    "# try multiple least squares linear regression\n",
    "linReg = LinearRegression(n_jobs=-1)\n",
    "linReg.fit(X = housingTrn,y=housingTargTrn)\n",
    "trnLinPred = linReg.predict(X = housingTrn)\n",
    "tstLinPred = linReg.predict(X = housingTst)\n",
    "# evaluate MSE\n",
    "trnLinMSE = mean_squared_error(housingTargTrn,trnLinPred)\n",
    "tstLinMSE = mean_squared_error(housingTargTst,tstLinPred)\n",
    "print('Linear Regression\\nTraining RMSE = %0.2f\\nTesting RMSE = %0.2f'%(math.sqrt(trnLinMSE),math.sqrt(tstLinMSE)))"
   ]
  },
  {
   "cell_type": "code",
   "execution_count": 19,
   "metadata": {},
   "outputs": [
    {
     "name": "stdout",
     "output_type": "stream",
     "text": [
      "Decision Tree Regression\n",
      "Training RMSE = 0.00\n",
      "Testing RMSE = 71633.62\n"
     ]
    }
   ],
   "source": [
    "# try a decision tree regressor\n",
    "treReg = DecisionTreeRegressor()\n",
    "treReg.fit(X = housingTrn,y=housingTargTrn)\n",
    "trnTrePred = treReg.predict(X = housingTrn)\n",
    "tstTrePred = treReg.predict(X = housingTst)\n",
    "# evaluate MSE\n",
    "trnTreMSE = mean_squared_error(housingTargTrn,trnTrePred)\n",
    "tstTreMSE = mean_squared_error(housingTargTst,tstTrePred)\n",
    "print('Decision Tree Regression\\nTraining RMSE = %0.2f\\nTesting RMSE = %0.2f'%(math.sqrt(trnTreMSE),math.sqrt(tstTreMSE)))"
   ]
  },
  {
   "cell_type": "code",
   "execution_count": null,
   "metadata": {},
   "outputs": [],
   "source": []
  }
 ],
 "metadata": {
  "kernelspec": {
   "display_name": "Python 3",
   "language": "python",
   "name": "python3"
  },
  "language_info": {
   "codemirror_mode": {
    "name": "ipython",
    "version": 3
   },
   "file_extension": ".py",
   "mimetype": "text/x-python",
   "name": "python",
   "nbconvert_exporter": "python",
   "pygments_lexer": "ipython3",
   "version": "3.6.5"
  }
 },
 "nbformat": 4,
 "nbformat_minor": 2
}
